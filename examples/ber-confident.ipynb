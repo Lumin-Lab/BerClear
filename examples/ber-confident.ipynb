{
 "cells": [
  {
   "cell_type": "code",
   "execution_count": 1,
   "metadata": {},
   "outputs": [],
   "source": [
    "#change path, the directory where the source files are located\n",
    "import os\n",
    "os.chdir(\"..\")"
   ]
  },
  {
   "cell_type": "code",
   "execution_count": 2,
   "metadata": {},
   "outputs": [],
   "source": [
    "import pandas as pd\n",
    "load_model = True\n",
    "model_dir = 'input/ber-sklearn-mlp/'\n",
    "clf_model = 'mlp'\n",
    "data_type = 'processed'\n",
    "data_dir = f'input/ber-processed-parquet/'\n",
    "\n",
    "\n",
    "# Read the processed data from the parquet file\n",
    "processed = pd.read_parquet(f\"{data_dir}/processed.parquet\")\n",
    "\n",
    "# Separate the features (X_processed) and labels (labels)\n",
    "X_processed = processed.drop(columns=[\"EnergyRating\"])\n",
    "labels = processed['EnergyRating']"
   ]
  },
  {
   "cell_type": "code",
   "execution_count": 3,
   "metadata": {},
   "outputs": [],
   "source": [
    "import numpy as np\n",
    "from clear.utils import load_train_test, load_embedding\n",
    "n_splits = 5\n",
    "pred_probs = []\n",
    "embedding_dir = 'input/ber-scarf-train-model/'\n",
    "data_dir = f'input/ber-processed-parquet/'\n",
    "\n",
    "\n",
    "model_dir = 'input/ber-sklearn-models/processed/mlp'\n",
    "clf_model = 'mlp'\n",
    "data_type = 'processed'\n",
    "\n"
   ]
  },
  {
   "cell_type": "code",
   "execution_count": 6,
   "metadata": {},
   "outputs": [
    {
     "name": "stdout",
     "output_type": "stream",
     "text": [
      "split 1\n"
     ]
    },
    {
     "name": "stderr",
     "output_type": "stream",
     "text": [
      "/Users/xiaoqian/miniforge3/envs/ber_clean/lib/python3.11/site-packages/sklearn/base.py:376: InconsistentVersionWarning: Trying to unpickle estimator LabelBinarizer from version 1.2.2 when using version 1.5.0. This might lead to breaking code or invalid results. Use at your own risk. For more info please refer to:\n",
      "https://scikit-learn.org/stable/model_persistence.html#security-maintainability-limitations\n",
      "  warnings.warn(\n",
      "/Users/xiaoqian/miniforge3/envs/ber_clean/lib/python3.11/site-packages/sklearn/base.py:376: InconsistentVersionWarning: Trying to unpickle estimator MLPClassifier from version 1.2.2 when using version 1.5.0. This might lead to breaking code or invalid results. Use at your own risk. For more info please refer to:\n",
      "https://scikit-learn.org/stable/model_persistence.html#security-maintainability-limitations\n",
      "  warnings.warn(\n"
     ]
    },
    {
     "name": "stdout",
     "output_type": "stream",
     "text": [
      "split 2\n"
     ]
    },
    {
     "name": "stderr",
     "output_type": "stream",
     "text": [
      "/Users/xiaoqian/miniforge3/envs/ber_clean/lib/python3.11/site-packages/sklearn/base.py:376: InconsistentVersionWarning: Trying to unpickle estimator LabelBinarizer from version 1.2.2 when using version 1.5.0. This might lead to breaking code or invalid results. Use at your own risk. For more info please refer to:\n",
      "https://scikit-learn.org/stable/model_persistence.html#security-maintainability-limitations\n",
      "  warnings.warn(\n",
      "/Users/xiaoqian/miniforge3/envs/ber_clean/lib/python3.11/site-packages/sklearn/base.py:376: InconsistentVersionWarning: Trying to unpickle estimator MLPClassifier from version 1.2.2 when using version 1.5.0. This might lead to breaking code or invalid results. Use at your own risk. For more info please refer to:\n",
      "https://scikit-learn.org/stable/model_persistence.html#security-maintainability-limitations\n",
      "  warnings.warn(\n"
     ]
    },
    {
     "name": "stdout",
     "output_type": "stream",
     "text": [
      "split 3\n"
     ]
    },
    {
     "name": "stderr",
     "output_type": "stream",
     "text": [
      "/Users/xiaoqian/miniforge3/envs/ber_clean/lib/python3.11/site-packages/sklearn/base.py:376: InconsistentVersionWarning: Trying to unpickle estimator LabelBinarizer from version 1.2.2 when using version 1.5.0. This might lead to breaking code or invalid results. Use at your own risk. For more info please refer to:\n",
      "https://scikit-learn.org/stable/model_persistence.html#security-maintainability-limitations\n",
      "  warnings.warn(\n",
      "/Users/xiaoqian/miniforge3/envs/ber_clean/lib/python3.11/site-packages/sklearn/base.py:376: InconsistentVersionWarning: Trying to unpickle estimator MLPClassifier from version 1.2.2 when using version 1.5.0. This might lead to breaking code or invalid results. Use at your own risk. For more info please refer to:\n",
      "https://scikit-learn.org/stable/model_persistence.html#security-maintainability-limitations\n",
      "  warnings.warn(\n"
     ]
    },
    {
     "name": "stdout",
     "output_type": "stream",
     "text": [
      "split 4\n"
     ]
    },
    {
     "name": "stderr",
     "output_type": "stream",
     "text": [
      "/Users/xiaoqian/miniforge3/envs/ber_clean/lib/python3.11/site-packages/sklearn/base.py:376: InconsistentVersionWarning: Trying to unpickle estimator LabelBinarizer from version 1.2.2 when using version 1.5.0. This might lead to breaking code or invalid results. Use at your own risk. For more info please refer to:\n",
      "https://scikit-learn.org/stable/model_persistence.html#security-maintainability-limitations\n",
      "  warnings.warn(\n",
      "/Users/xiaoqian/miniforge3/envs/ber_clean/lib/python3.11/site-packages/sklearn/base.py:376: InconsistentVersionWarning: Trying to unpickle estimator MLPClassifier from version 1.2.2 when using version 1.5.0. This might lead to breaking code or invalid results. Use at your own risk. For more info please refer to:\n",
      "https://scikit-learn.org/stable/model_persistence.html#security-maintainability-limitations\n",
      "  warnings.warn(\n"
     ]
    },
    {
     "name": "stdout",
     "output_type": "stream",
     "text": [
      "split 5\n"
     ]
    },
    {
     "name": "stderr",
     "output_type": "stream",
     "text": [
      "/Users/xiaoqian/miniforge3/envs/ber_clean/lib/python3.11/site-packages/sklearn/base.py:376: InconsistentVersionWarning: Trying to unpickle estimator LabelBinarizer from version 1.2.2 when using version 1.5.0. This might lead to breaking code or invalid results. Use at your own risk. For more info please refer to:\n",
      "https://scikit-learn.org/stable/model_persistence.html#security-maintainability-limitations\n",
      "  warnings.warn(\n",
      "/Users/xiaoqian/miniforge3/envs/ber_clean/lib/python3.11/site-packages/sklearn/base.py:376: InconsistentVersionWarning: Trying to unpickle estimator MLPClassifier from version 1.2.2 when using version 1.5.0. This might lead to breaking code or invalid results. Use at your own risk. For more info please refer to:\n",
      "https://scikit-learn.org/stable/model_persistence.html#security-maintainability-limitations\n",
      "  warnings.warn(\n"
     ]
    }
   ],
   "source": [
    "from clear.utils import load_pickle\n",
    "from clear.model_sklearn import get_pred_probs\n",
    "pred_probs_proc = []\n",
    "labels_proc = []\n",
    "for i in range(n_splits):\n",
    "    print(f\"split {i+1}\")\n",
    "    X_train, y_train, X_test, y_test = load_train_test(f'{data_dir}/split_{i+1}', data_type = 'processed', data_format='parquet')\n",
    "    model = load_pickle(f'{model_dir}/split_{i+1}/{clf_model}_{data_type}.pkl')\n",
    "    pred = get_pred_probs(model, X_test)\n",
    "    pred_probs_proc.append(pred)\n",
    "    labels_proc.append(y_test)"
   ]
  },
  {
   "cell_type": "code",
   "execution_count": 7,
   "metadata": {},
   "outputs": [
    {
     "name": "stderr",
     "output_type": "stream",
     "text": [
      "/Users/xiaoqian/miniforge3/envs/ber_clean/lib/python3.11/site-packages/tqdm/auto.py:21: TqdmWarning: IProgress not found. Please update jupyter and ipywidgets. See https://ipywidgets.readthedocs.io/en/stable/user_install.html\n",
      "  from .autonotebook import tqdm as notebook_tqdm\n",
      "/Users/xiaoqian/coding/projects/luminlab/BerClear/clear/confident_learning.py:46: SettingWithCopyWarning: \n",
      "A value is trying to be set on a copy of a slice from a DataFrame.\n",
      "Try using .loc[row_indexer,col_indexer] = value instead\n",
      "\n",
      "See the caveats in the documentation: https://pandas.pydata.org/pandas-docs/stable/user_guide/indexing.html#returning-a-view-versus-a-copy\n",
      "  overlap_classes[classA]=overlap_classes[classA].astype(int)\n"
     ]
    },
    {
     "data": {
      "text/plain": [
       "{5: 5, 6: 5, 7: 5, 8: 5, 9: 5, 10: 5}"
      ]
     },
     "execution_count": 7,
     "metadata": {},
     "output_type": "execute_result"
    }
   ],
   "source": [
    "from clear.confident_learning import find_merged_classes\n",
    "from clear.utils import get_ber_class_mapping\n",
    "\n",
    "class_names, class_mapping = get_ber_class_mapping()\n",
    "overlapped, merged, merged_dict = find_merged_classes(\n",
    "    labels_proc[0], class_names, pred_probs_proc[0], thresh=0.02\n",
    ")\n",
    "merged_dict"
   ]
  },
  {
   "cell_type": "code",
   "execution_count": 13,
   "metadata": {},
   "outputs": [],
   "source": [
    "df_merged = pd.DataFrame.from_dict(merged_dict, orient='index')\n",
    "df_merged = df_merged.reset_index()\n",
    "df_merged.columns = ['origin', 'merged']\n",
    "output_dir = 'output/'\n",
    "df_merged.to_csv(f'{output_dir}/merged.csv', index=False)"
   ]
  },
  {
   "cell_type": "code",
   "execution_count": 9,
   "metadata": {},
   "outputs": [],
   "source": [
    "from clear.confident_learning import merge_label\n",
    "from clear.utils import get_scores, save_model_pickle\n",
    "from clear.model_sklearn import get_clf_mlp, get_clf_rf\n",
    "\n",
    "compute_processed = True\n",
    "model_type = 'rf'\n",
    "\n",
    "for i in range(n_splits):\n",
    "    X_train, y_train, X_test, y_test = load_train_test(f'{data_dir}/split_{i+1}', data_type = 'processed', data_format='parquet')\n",
    "    y_train_merged = merge_label(y_train, merged_dict)\n",
    "    y_test_merged = merge_label(y_test, merged_dict)\n",
    "\n",
    "    #processed\n",
    "    if compute_processed:\n",
    "        #use the following to load a pretrained model\n",
    "        # model = load_pickle(f'{model_dir}/split_{i+1}/{clf_model}_{data_type}.pkl')\n",
    "        #use sklearn model from scratch (mlp pytorch model is implemented under the pytorch folder)\n",
    "\n",
    "        if model_type == 'mlp':\n",
    "            clf, clf_model = get_clf_mlp()\n",
    "        elif model_type == 'rf':\n",
    "            clf, clf_model = get_clf_rf()\n",
    "        else:\n",
    "            raise('Model type not supported')\n",
    "\n",
    "        clf.fit(X_train, y_train_merged)\n",
    "        save_model_pickle(output_dir, clf, 'processed', clf_model)\n",
    "        y_pred = clf.predict(X_test)\n",
    "        scores = get_scores(y_test_merged, y_pred)\n",
    "        scores_emb = pd.DataFrame.from_dict(scores)\n",
    "        scores_emb.to_csv(f'{output_dir}/scores_processed_{i+1}.csv', index=False)\n"
   ]
  },
  {
   "cell_type": "code",
   "execution_count": 10,
   "metadata": {},
   "outputs": [
    {
     "data": {
      "text/html": [
       "<div>\n",
       "<style scoped>\n",
       "    .dataframe tbody tr th:only-of-type {\n",
       "        vertical-align: middle;\n",
       "    }\n",
       "\n",
       "    .dataframe tbody tr th {\n",
       "        vertical-align: top;\n",
       "    }\n",
       "\n",
       "    .dataframe thead th {\n",
       "        text-align: right;\n",
       "    }\n",
       "</style>\n",
       "<table border=\"1\" class=\"dataframe\">\n",
       "  <thead>\n",
       "    <tr style=\"text-align: right;\">\n",
       "      <th></th>\n",
       "      <th>Class Name A</th>\n",
       "      <th>Class Name B</th>\n",
       "      <th>Class Index A</th>\n",
       "      <th>Class Index B</th>\n",
       "      <th>Num Overlapping Examples</th>\n",
       "      <th>Joint Probability</th>\n",
       "    </tr>\n",
       "  </thead>\n",
       "  <tbody>\n",
       "    <tr>\n",
       "      <th>0</th>\n",
       "      <td>7</td>\n",
       "      <td>8</td>\n",
       "      <td>7</td>\n",
       "      <td>8</td>\n",
       "      <td>8070</td>\n",
       "      <td>0.033296</td>\n",
       "    </tr>\n",
       "    <tr>\n",
       "      <th>1</th>\n",
       "      <td>6</td>\n",
       "      <td>7</td>\n",
       "      <td>6</td>\n",
       "      <td>7</td>\n",
       "      <td>7148</td>\n",
       "      <td>0.029492</td>\n",
       "    </tr>\n",
       "    <tr>\n",
       "      <th>2</th>\n",
       "      <td>8</td>\n",
       "      <td>9</td>\n",
       "      <td>8</td>\n",
       "      <td>9</td>\n",
       "      <td>6916</td>\n",
       "      <td>0.028535</td>\n",
       "    </tr>\n",
       "    <tr>\n",
       "      <th>3</th>\n",
       "      <td>9</td>\n",
       "      <td>10</td>\n",
       "      <td>9</td>\n",
       "      <td>10</td>\n",
       "      <td>5266</td>\n",
       "      <td>0.021727</td>\n",
       "    </tr>\n",
       "    <tr>\n",
       "      <th>4</th>\n",
       "      <td>5</td>\n",
       "      <td>6</td>\n",
       "      <td>5</td>\n",
       "      <td>6</td>\n",
       "      <td>5237</td>\n",
       "      <td>0.021607</td>\n",
       "    </tr>\n",
       "    <tr>\n",
       "      <th>5</th>\n",
       "      <td>10</td>\n",
       "      <td>11</td>\n",
       "      <td>10</td>\n",
       "      <td>11</td>\n",
       "      <td>3970</td>\n",
       "      <td>0.016380</td>\n",
       "    </tr>\n",
       "    <tr>\n",
       "      <th>6</th>\n",
       "      <td>4</td>\n",
       "      <td>5</td>\n",
       "      <td>4</td>\n",
       "      <td>5</td>\n",
       "      <td>3614</td>\n",
       "      <td>0.014911</td>\n",
       "    </tr>\n",
       "    <tr>\n",
       "      <th>7</th>\n",
       "      <td>11</td>\n",
       "      <td>12</td>\n",
       "      <td>11</td>\n",
       "      <td>12</td>\n",
       "      <td>3357</td>\n",
       "      <td>0.013851</td>\n",
       "    </tr>\n",
       "    <tr>\n",
       "      <th>8</th>\n",
       "      <td>12</td>\n",
       "      <td>13</td>\n",
       "      <td>12</td>\n",
       "      <td>13</td>\n",
       "      <td>2575</td>\n",
       "      <td>0.010624</td>\n",
       "    </tr>\n",
       "    <tr>\n",
       "      <th>9</th>\n",
       "      <td>3</td>\n",
       "      <td>4</td>\n",
       "      <td>3</td>\n",
       "      <td>4</td>\n",
       "      <td>1809</td>\n",
       "      <td>0.007464</td>\n",
       "    </tr>\n",
       "  </tbody>\n",
       "</table>\n",
       "</div>"
      ],
      "text/plain": [
       "   Class Name A  Class Name B  Class Index A  Class Index B  \\\n",
       "0             7             8              7              8   \n",
       "1             6             7              6              7   \n",
       "2             8             9              8              9   \n",
       "3             9            10              9             10   \n",
       "4             5             6              5              6   \n",
       "5            10            11             10             11   \n",
       "6             4             5              4              5   \n",
       "7            11            12             11             12   \n",
       "8            12            13             12             13   \n",
       "9             3             4              3              4   \n",
       "\n",
       "   Num Overlapping Examples  Joint Probability  \n",
       "0                      8070           0.033296  \n",
       "1                      7148           0.029492  \n",
       "2                      6916           0.028535  \n",
       "3                      5266           0.021727  \n",
       "4                      5237           0.021607  \n",
       "5                      3970           0.016380  \n",
       "6                      3614           0.014911  \n",
       "7                      3357           0.013851  \n",
       "8                      2575           0.010624  \n",
       "9                      1809           0.007464  "
      ]
     },
     "execution_count": 10,
     "metadata": {},
     "output_type": "execute_result"
    }
   ],
   "source": [
    "overlapped.head(10)"
   ]
  },
  {
   "cell_type": "code",
   "execution_count": 12,
   "metadata": {},
   "outputs": [
    {
     "data": {
      "text/plain": [
       "acc    0.773043\n",
       "f1     0.382140\n",
       "dtype: float64"
      ]
     },
     "execution_count": 12,
     "metadata": {},
     "output_type": "execute_result"
    }
   ],
   "source": [
    "import pandas as pd\n",
    "\n",
    "def get_scores_mean(folder, fname, n_splits=5):\n",
    "    scores = []\n",
    "    for i in range(n_splits):\n",
    "        curr = pd.read_csv(f'{folder}/{fname}_{i+1}.csv')\n",
    "        scores.append(curr)\n",
    "\n",
    "    scores = pd.concat(scores)\n",
    "    return scores.mean(axis=0)\n",
    "\n",
    "avg_scores = get_scores_mean(output_dir, 'scores_processed')\n",
    "avg_scores.to_csv(f'{output_dir}/avg_scores.csv', index=False)\n",
    "avg_scores"
   ]
  }
 ],
 "metadata": {
  "kernelspec": {
   "display_name": "ber_clean",
   "language": "python",
   "name": "python3"
  },
  "language_info": {
   "codemirror_mode": {
    "name": "ipython",
    "version": 3
   },
   "file_extension": ".py",
   "mimetype": "text/x-python",
   "name": "python",
   "nbconvert_exporter": "python",
   "pygments_lexer": "ipython3",
   "version": "3.11.9"
  }
 },
 "nbformat": 4,
 "nbformat_minor": 2
}
