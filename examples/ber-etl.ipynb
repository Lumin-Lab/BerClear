{
 "cells": [
  {
   "cell_type": "code",
   "execution_count": null,
   "metadata": {},
   "outputs": [],
   "source": [
    "import os\n",
    "os.chdir(\"..\")\n",
    "import sys\n",
    "sys.path.append(\"clear/pytorch\")"
   ]
  },
  {
   "cell_type": "markdown",
   "metadata": {},
   "source": [
    "Download [BER dataset](https://ndber.seai.ie/BERResearchTool/ber/search.aspx)\n",
    "\n",
    "Put the dataset under the input folder (./input)"
   ]
  },
  {
   "cell_type": "code",
   "execution_count": 21,
   "metadata": {},
   "outputs": [
    {
     "name": "stdout",
     "output_type": "stream",
     "text": [
      "Archive:  input/BERPublicSearch.zip\n",
      "  inflating: input/BERPublicsearch.txt  ^C\n"
     ]
    }
   ],
   "source": [
    "!unzip input/BERPublicSearch.zip -d input"
   ]
  },
  {
   "cell_type": "code",
   "execution_count": null,
   "metadata": {},
   "outputs": [],
   "source": [
    "import pandas as pd\n",
    "#file saved with encoding utf-8\n",
    "data = pd.read_csv(\"input/BERPublicsearch.txt\", \n",
    "                   sep='\\t', \n",
    "                   header=0, \n",
    "                   encoding='latin_1',\n",
    "                   on_bad_lines='warn'\n",
    "                  )"
   ]
  },
  {
   "cell_type": "code",
   "execution_count": null,
   "metadata": {},
   "outputs": [],
   "source": [
    "from sklearn.model_selection import train_test_split\n",
    "from sklearn.model_selection import train_test_split\n",
    "\n",
    "# Split the data into train and test sets and stratify by the EnergyRating\n",
    "stratified_sample, _ = train_test_split(data, test_size=0.9, stratify=data[['EnergyRating']])"
   ]
  },
  {
   "cell_type": "code",
   "execution_count": null,
   "metadata": {},
   "outputs": [],
   "source": [
    "#save stratified sample to csv\n",
    "stratified_sample.to_csv('input/ber-csv/BER_stratified_sample.csv')\n",
    "#save full data to csv\n",
    "data.to_csv(\"input/ber-csv/BER.csv\")\n"
   ]
  },
  {
   "cell_type": "code",
   "execution_count": 9,
   "metadata": {},
   "outputs": [
    {
     "name": "stderr",
     "output_type": "stream",
     "text": [
      "/var/folders/lj/fb1h6p1n6037k3t6r3ltp7fw0000gn/T/ipykernel_11763/775515106.py:3: DtypeWarning: Columns (156,162,167) have mixed types. Specify dtype option on import or set low_memory=False.\n",
      "  X_raw = pd.read_csv(raw_data_path)\n"
     ]
    }
   ],
   "source": [
    "import pandas as pd\n",
    "raw_data_path = \"input/ber-csv/BER_stratified_sample.csv\"\n",
    "X_raw = pd.read_csv(raw_data_path)"
   ]
  },
  {
   "cell_type": "code",
   "execution_count": 8,
   "metadata": {},
   "outputs": [],
   "source": [
    "n_splits = 5\n",
    "output_dir = \"output\""
   ]
  },
  {
   "cell_type": "code",
   "execution_count": null,
   "metadata": {},
   "outputs": [],
   "source": [
    "import os\n",
    "def save_csv_file(df, path):\n",
    "    \"\"\"\n",
    "    Save a DataFrame as a CSV file.\n",
    "\n",
    "    Args:\n",
    "        df (pandas.DataFrame): The DataFrame to be saved.\n",
    "        path (str): The path where the CSV file will be saved.\n",
    "\n",
    "    Returns:\n",
    "        None\n",
    "    \"\"\"\n",
    "    dir_name = os.path.dirname(path)\n",
    "    if dir_name:\n",
    "        if not os.path.exists(dir_name):\n",
    "            os.makedirs(dir_name)\n",
    "    df.to_csv(path, index=False)"
   ]
  },
  {
   "cell_type": "code",
   "execution_count": null,
   "metadata": {},
   "outputs": [],
   "source": [
    "from sklearn.model_selection import KFold\n",
    "import os\n",
    "# Split the data into train and test sets using KFold cross-validation\n",
    "kf = KFold(n_splits=n_splits, random_state=42, shuffle=True)\n",
    "\n",
    "# Iterate over each fold and save the train and test data\n",
    "for i, (train_index, test_index) in enumerate(kf.split(X_raw)):\n",
    "    save_csv_file(X_raw.iloc[train_index], f\"{output_dir}/split_{i+1}/raw_train.csv\")\n",
    "    save_csv_file(X_raw.iloc[test_index], f\"{output_dir}/split_{i+1}/raw_test.csv\")"
   ]
  },
  {
   "cell_type": "code",
   "execution_count": 13,
   "metadata": {},
   "outputs": [
    {
     "data": {
      "text/plain": [
       "0"
      ]
     },
     "execution_count": 13,
     "metadata": {},
     "output_type": "execute_result"
    }
   ],
   "source": [
    "#run preprocessing script\n",
    "config_dir = \"clear/pytorch/configs\"\n",
    "command = f\"\"\"\n",
    "    python clear/pytorch/get_processed_dataset.py \\\n",
    "      --config_dir=\"{config_dir}\" \\\n",
    "      --output_dir=\"{output_dir}\" \\\n",
    "      --data_path={raw_data_path} \\\n",
    "      --output_csv_name \"processed\" \\\n",
    "      --is_train\n",
    "    \"\"\"\n",
    "os.system(command)"
   ]
  },
  {
   "cell_type": "code",
   "execution_count": 15,
   "metadata": {},
   "outputs": [],
   "source": [
    "#copy config files to each split\n",
    "files_to_copy = [\"column_type_classification.yaml\", \"encoder.joblib\", \"scaler.joblib\", \"train_stats.json\"]\n",
    "for i in range(n_splits):\n",
    "    for file_name in files_to_copy:\n",
    "        src = f\"{output_dir}/{file_name}\"\n",
    "        dest = f\"{output_dir}/split_{i+1}/{file_name}\"\n",
    "        os.system(f\"cp {src} {dest}\")"
   ]
  },
  {
   "cell_type": "code",
   "execution_count": 17,
   "metadata": {},
   "outputs": [],
   "source": [
    "#run preprocessing script for each split train and test data\n",
    "for i in range(n_splits):\n",
    "    command = f\"\"\"\n",
    "    python clear/pytorch/get_processed_dataset.py \\\n",
    "      --config_dir=\"{config_dir}\" \\\n",
    "      --output_dir \"{output_dir}/split_{i+1}\" \\\n",
    "      --data_path \"{output_dir}/split_{i+1}/raw_train.csv\" \\\n",
    "      --output_csv_name \"processed_train\" \\\n",
    "    \"\"\"\n",
    "    os.system(command)\n",
    "    command = f\"\"\"\n",
    "    python clear/pytorch/get_processed_dataset.py \\\n",
    "      --config_dir=\"{config_dir}\" \\\n",
    "      --output_dir \"{output_dir}/split_{i+1}\" \\\n",
    "      --data_path \"{output_dir}/split_{i+1}/raw_test.csv\" \\\n",
    "      --output_csv_name \"processed_test\"\n",
    "    \"\"\"\n",
    "    os.system(command)"
   ]
  },
  {
   "cell_type": "code",
   "execution_count": 18,
   "metadata": {},
   "outputs": [],
   "source": [
    "import os\n",
    "def convert(df, filefolder, fname):\n",
    "    \"\"\"\n",
    "    Convert a DataFrame to a parquet file.\n",
    "\n",
    "    Parameters:\n",
    "    - df: DataFrame\n",
    "        The DataFrame to be converted.\n",
    "    - filefolder: str\n",
    "        The folder path where the parquet file will be saved.\n",
    "    - fname: str\n",
    "        The name of the parquet file (without extension) to save.\n",
    "\n",
    "    Returns:\n",
    "    None\n",
    "    \"\"\"\n",
    "    os.makedirs(filefolder, exist_ok=True) \n",
    "    df.to_parquet(f\"{filefolder}/{fname}.parquet\", compression='gzip')"
   ]
  },
  {
   "cell_type": "code",
   "execution_count": 20,
   "metadata": {},
   "outputs": [],
   "source": [
    "import pandas as pd\n",
    "data_dir = \"output\"\n",
    "output_dir = \"output\"\n",
    "#save processed data in parquet format\n",
    "processed = pd.read_csv(f\"{data_dir}/processed.csv\")\n",
    "convert(processed, output_dir, \"processed\")\n",
    "selected = range(n_splits)\n",
    "for i in selected:\n",
    "    train_file, test_file = \"processed_train\", \"processed_test\"\n",
    "    train_df = pd.read_csv(f\"{data_dir}/split_{i+1}/{train_file}.csv\")\n",
    "    convert(train_df, f\"{output_dir}/split_{i+1}/\", f\"{train_file}\")\n",
    "    test_df = pd.read_csv(f\"{data_dir}/split_{i+1}/{test_file}.csv\")\n",
    "    convert(test_df, f\"{output_dir}/split_{i+1}/\", f\"{test_file}\")"
   ]
  }
 ],
 "metadata": {
  "kernelspec": {
   "display_name": "ber_clean",
   "language": "python",
   "name": "python3"
  },
  "language_info": {
   "codemirror_mode": {
    "name": "ipython",
    "version": 3
   },
   "file_extension": ".py",
   "mimetype": "text/x-python",
   "name": "python",
   "nbconvert_exporter": "python",
   "pygments_lexer": "ipython3",
   "version": "3.11.9"
  }
 },
 "nbformat": 4,
 "nbformat_minor": 2
}
